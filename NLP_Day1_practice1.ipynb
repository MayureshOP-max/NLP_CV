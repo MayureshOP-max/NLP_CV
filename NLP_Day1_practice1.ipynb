{
  "nbformat": 4,
  "nbformat_minor": 0,
  "metadata": {
    "colab": {
      "provenance": [],
      "authorship_tag": "ABX9TyMlGjqCnKMOqRG+p3D+P4Z/",
      "include_colab_link": true
    },
    "kernelspec": {
      "name": "python3",
      "display_name": "Python 3"
    },
    "language_info": {
      "name": "python"
    }
  },
  "cells": [
    {
      "cell_type": "markdown",
      "metadata": {
        "id": "view-in-github",
        "colab_type": "text"
      },
      "source": [
        "<a href=\"https://colab.research.google.com/github/MayureshOP-max/NLP_CV/blob/main/NLP_Day1_practice1.ipynb\" target=\"_parent\"><img src=\"https://colab.research.google.com/assets/colab-badge.svg\" alt=\"Open In Colab\"/></a>"
      ]
    },
    {
      "cell_type": "code",
      "execution_count": null,
      "metadata": {
        "id": "X7ZWFmDy_bXJ"
      },
      "outputs": [],
      "source": [
        "sent = 'They told that their ages are 25 26 and 31 respectively'"
      ]
    },
    {
      "cell_type": "code",
      "source": [
        "# Find the average of ages in this sentence\n"
      ],
      "metadata": {
        "id": "7tfk4rbLAFSi"
      },
      "execution_count": null,
      "outputs": []
    },
    {
      "cell_type": "code",
      "source": [
        "import re\n",
        "import numpy as np"
      ],
      "metadata": {
        "id": "wZ7SWuByAI8M"
      },
      "execution_count": null,
      "outputs": []
    },
    {
      "cell_type": "code",
      "source": [
        "exp = r'\\d{2}'\n",
        "r = re.findall(exp, sent)"
      ],
      "metadata": {
        "id": "7xzwePyjAM0r"
      },
      "execution_count": null,
      "outputs": []
    },
    {
      "cell_type": "code",
      "source": [
        "r"
      ],
      "metadata": {
        "colab": {
          "base_uri": "https://localhost:8080/"
        },
        "id": "PXr3szInAQl4",
        "outputId": "712f53da-461e-4720-f730-98aad2e90340"
      },
      "execution_count": null,
      "outputs": [
        {
          "output_type": "execute_result",
          "data": {
            "text/plain": [
              "['25', '26', '31']"
            ]
          },
          "metadata": {},
          "execution_count": 5
        }
      ]
    },
    {
      "cell_type": "code",
      "source": [
        "sum=0\n",
        "for i in r:\n",
        "  sum += int(i)\n",
        "\n",
        "print(sum/len(r))"
      ],
      "metadata": {
        "colab": {
          "base_uri": "https://localhost:8080/"
        },
        "id": "38zd9aKnA23i",
        "outputId": "1a5be9f6-5b7f-4955-f9fc-9b03a5688201"
      },
      "execution_count": null,
      "outputs": [
        {
          "output_type": "stream",
          "name": "stdout",
          "text": [
            "27.333333333333332\n"
          ]
        }
      ]
    },
    {
      "cell_type": "code",
      "source": [
        "# different approach\n",
        "\n",
        "words = sent.split()\n",
        "words"
      ],
      "metadata": {
        "id": "rYB7gyxdBGUa",
        "colab": {
          "base_uri": "https://localhost:8080/"
        },
        "outputId": "a7bc480d-27df-403e-a99b-3aa199c7dbea"
      },
      "execution_count": null,
      "outputs": [
        {
          "output_type": "execute_result",
          "data": {
            "text/plain": [
              "['They',\n",
              " 'told',\n",
              " 'that',\n",
              " 'their',\n",
              " 'ages',\n",
              " 'are',\n",
              " '25',\n",
              " '26',\n",
              " 'and',\n",
              " '31',\n",
              " 'respectively']"
            ]
          },
          "metadata": {},
          "execution_count": 7
        }
      ]
    },
    {
      "cell_type": "code",
      "source": [
        "ages=[]\n",
        "for word in words:\n",
        "  if word.isdigit():\n",
        "    ages.append(int(word))"
      ],
      "metadata": {
        "id": "b71lvKINB9f-"
      },
      "execution_count": null,
      "outputs": []
    },
    {
      "cell_type": "code",
      "source": [
        "sum=0\n",
        "for i in ages:\n",
        "  sum += int(i)\n",
        "\n",
        "print(sum/len(ages))"
      ],
      "metadata": {
        "colab": {
          "base_uri": "https://localhost:8080/"
        },
        "id": "MankcAqZCLM0",
        "outputId": "2f3f2185-8078-47a9-e89c-e9470aab3610"
      },
      "execution_count": null,
      "outputs": [
        {
          "output_type": "stream",
          "name": "stdout",
          "text": [
            "27.333333333333332\n"
          ]
        }
      ]
    },
    {
      "cell_type": "code",
      "source": [],
      "metadata": {
        "id": "FPQHv7rsFgU3"
      },
      "execution_count": null,
      "outputs": []
    },
    {
      "cell_type": "code",
      "source": [
        "names = ['गंगू', 'गुनगुन', 'अर्जुन','मयुरेश']"
      ],
      "metadata": {
        "id": "iJ_Hp1D-FgS-"
      },
      "execution_count": null,
      "outputs": []
    },
    {
      "cell_type": "code",
      "source": [
        "print(names)"
      ],
      "metadata": {
        "colab": {
          "base_uri": "https://localhost:8080/"
        },
        "id": "jGQq8MkxFgP8",
        "outputId": "fd914417-8772-40db-81ee-753b9870d95a"
      },
      "execution_count": null,
      "outputs": [
        {
          "output_type": "stream",
          "name": "stdout",
          "text": [
            "['गंगू', 'गुनगुन', 'अर्जुन', 'मयुरेश']\n"
          ]
        }
      ]
    },
    {
      "cell_type": "code",
      "source": [
        "for x in names:\n",
        "  if x.startswith('ग'):\n",
        "    print(x)"
      ],
      "metadata": {
        "colab": {
          "base_uri": "https://localhost:8080/"
        },
        "id": "GwsRABcMF1H2",
        "outputId": "6cd6912a-033c-4971-b447-209cf2985bf8"
      },
      "execution_count": null,
      "outputs": [
        {
          "output_type": "stream",
          "name": "stdout",
          "text": [
            "गंगू\n",
            "गुनगुन\n"
          ]
        }
      ]
    },
    {
      "cell_type": "code",
      "source": [
        "' '.join(names)"
      ],
      "metadata": {
        "colab": {
          "base_uri": "https://localhost:8080/",
          "height": 36
        },
        "id": "VutvUP8_F57y",
        "outputId": "83196693-62a9-47ed-c379-6733f1e425d9"
      },
      "execution_count": null,
      "outputs": [
        {
          "output_type": "execute_result",
          "data": {
            "text/plain": [
              "'गंगू गुनगुन अर्जुन मयुरेश'"
            ],
            "application/vnd.google.colaboratory.intrinsic+json": {
              "type": "string"
            }
          },
          "metadata": {},
          "execution_count": 13
        }
      ]
    },
    {
      "cell_type": "code",
      "source": [
        "'गुनगुन'.replace('ग','झ')"
      ],
      "metadata": {
        "colab": {
          "base_uri": "https://localhost:8080/",
          "height": 36
        },
        "id": "UrpATNN6F-sv",
        "outputId": "13288975-c9f1-4881-a8a4-4d7c8417518e"
      },
      "execution_count": null,
      "outputs": [
        {
          "output_type": "execute_result",
          "data": {
            "text/plain": [
              "'झुनझुन'"
            ],
            "application/vnd.google.colaboratory.intrinsic+json": {
              "type": "string"
            }
          },
          "metadata": {},
          "execution_count": 14
        }
      ]
    },
    {
      "cell_type": "code",
      "source": [
        "' '.join(names).count('ग')"
      ],
      "metadata": {
        "colab": {
          "base_uri": "https://localhost:8080/"
        },
        "id": "w7wkwmb2G7do",
        "outputId": "148273fe-6be1-45aa-d82c-fd2c92d32a78"
      },
      "execution_count": null,
      "outputs": [
        {
          "output_type": "execute_result",
          "data": {
            "text/plain": [
              "4"
            ]
          },
          "metadata": {},
          "execution_count": 15
        }
      ]
    },
    {
      "cell_type": "code",
      "source": [
        "len(names[1])"
      ],
      "metadata": {
        "colab": {
          "base_uri": "https://localhost:8080/"
        },
        "id": "32i51_P0HEXm",
        "outputId": "b1f94197-2b81-4b7b-e29b-f9ca82e20899"
      },
      "execution_count": null,
      "outputs": [
        {
          "output_type": "execute_result",
          "data": {
            "text/plain": [
              "6"
            ]
          },
          "metadata": {},
          "execution_count": 16
        }
      ]
    },
    {
      "cell_type": "code",
      "source": [
        "names[1]"
      ],
      "metadata": {
        "colab": {
          "base_uri": "https://localhost:8080/",
          "height": 36
        },
        "id": "jbRLh40RHQEj",
        "outputId": "2e7ded0d-e24d-4af4-acf1-fcb0478da3a9"
      },
      "execution_count": null,
      "outputs": [
        {
          "output_type": "execute_result",
          "data": {
            "text/plain": [
              "'गुनगुन'"
            ],
            "application/vnd.google.colaboratory.intrinsic+json": {
              "type": "string"
            }
          },
          "metadata": {},
          "execution_count": 17
        }
      ]
    },
    {
      "cell_type": "code",
      "source": [
        "f= open('names.txt','w')\n",
        "for x in range(100):\n",
        "  f.write('गुनगुन हमारा झाटु है \\n')\n",
        "f.close()"
      ],
      "metadata": {
        "id": "NokmSFvPHWyO"
      },
      "execution_count": null,
      "outputs": []
    },
    {
      "cell_type": "code",
      "source": [
        "ord('r')"
      ],
      "metadata": {
        "colab": {
          "base_uri": "https://localhost:8080/"
        },
        "id": "a-n7nG5xHzdi",
        "outputId": "863b1a9e-4438-466b-ecf7-375f80a85e6f"
      },
      "execution_count": null,
      "outputs": [
        {
          "output_type": "execute_result",
          "data": {
            "text/plain": [
              "114"
            ]
          },
          "metadata": {},
          "execution_count": 19
        }
      ]
    },
    {
      "cell_type": "code",
      "source": [
        "ord('6')"
      ],
      "metadata": {
        "colab": {
          "base_uri": "https://localhost:8080/"
        },
        "id": "WAd9R551IVSB",
        "outputId": "791a01ae-70ad-4d51-e980-70fe91dcc7a4"
      },
      "execution_count": null,
      "outputs": [
        {
          "output_type": "execute_result",
          "data": {
            "text/plain": [
              "54"
            ]
          },
          "metadata": {},
          "execution_count": 20
        }
      ]
    },
    {
      "cell_type": "code",
      "source": [
        "chr(67)"
      ],
      "metadata": {
        "colab": {
          "base_uri": "https://localhost:8080/",
          "height": 36
        },
        "id": "h73vtGCSIXVS",
        "outputId": "0cedf0be-2763-4b81-a398-e43b878232c3"
      },
      "execution_count": null,
      "outputs": [
        {
          "output_type": "execute_result",
          "data": {
            "text/plain": [
              "'C'"
            ],
            "application/vnd.google.colaboratory.intrinsic+json": {
              "type": "string"
            }
          },
          "metadata": {},
          "execution_count": 21
        }
      ]
    },
    {
      "cell_type": "code",
      "source": [
        "ord('य')"
      ],
      "metadata": {
        "colab": {
          "base_uri": "https://localhost:8080/"
        },
        "id": "VRZLqOyrIZES",
        "outputId": "52f08236-378c-4884-dcf7-72d7afdb6e21"
      },
      "execution_count": null,
      "outputs": [
        {
          "output_type": "execute_result",
          "data": {
            "text/plain": [
              "2351"
            ]
          },
          "metadata": {},
          "execution_count": 22
        }
      ]
    },
    {
      "cell_type": "code",
      "source": [
        "x= '\\u0939\\u092A'"
      ],
      "metadata": {
        "id": "ELI3UNF2Ivkl"
      },
      "execution_count": null,
      "outputs": []
    },
    {
      "cell_type": "code",
      "source": [
        "x"
      ],
      "metadata": {
        "colab": {
          "base_uri": "https://localhost:8080/",
          "height": 36
        },
        "id": "EHup5S-5I_Yt",
        "outputId": "88cd00e2-58f7-4372-cc19-b9d2f90d03a0"
      },
      "execution_count": null,
      "outputs": [
        {
          "output_type": "execute_result",
          "data": {
            "text/plain": [
              "'हप'"
            ],
            "application/vnd.google.colaboratory.intrinsic+json": {
              "type": "string"
            }
          },
          "metadata": {},
          "execution_count": 24
        }
      ]
    },
    {
      "cell_type": "code",
      "source": [
        "emoji = '😉😇😆😀'"
      ],
      "metadata": {
        "id": "ZOIt5jYiI_0c"
      },
      "execution_count": null,
      "outputs": []
    },
    {
      "cell_type": "code",
      "source": [
        "emoji[0]"
      ],
      "metadata": {
        "colab": {
          "base_uri": "https://localhost:8080/",
          "height": 36
        },
        "id": "LO3Bg5UOKvTI",
        "outputId": "efbf6bce-440f-4fab-fd44-15f17c50e671"
      },
      "execution_count": null,
      "outputs": [
        {
          "output_type": "execute_result",
          "data": {
            "text/plain": [
              "'😉'"
            ],
            "application/vnd.google.colaboratory.intrinsic+json": {
              "type": "string"
            }
          },
          "metadata": {},
          "execution_count": 26
        }
      ]
    },
    {
      "cell_type": "code",
      "source": [
        "chr(0x1F606)"
      ],
      "metadata": {
        "colab": {
          "base_uri": "https://localhost:8080/",
          "height": 36
        },
        "id": "dd_1aeGdKaCn",
        "outputId": "bcf0ec24-306e-4224-a611-c4a8da27fcb1"
      },
      "execution_count": null,
      "outputs": [
        {
          "output_type": "execute_result",
          "data": {
            "text/plain": [
              "'😆'"
            ],
            "application/vnd.google.colaboratory.intrinsic+json": {
              "type": "string"
            }
          },
          "metadata": {},
          "execution_count": 27
        }
      ]
    },
    {
      "cell_type": "code",
      "source": [
        "ord(emoji[2])"
      ],
      "metadata": {
        "colab": {
          "base_uri": "https://localhost:8080/"
        },
        "id": "640d2b8dKmky",
        "outputId": "1dc1ccf9-05ac-483a-a15c-4a418fc8884a"
      },
      "execution_count": null,
      "outputs": [
        {
          "output_type": "execute_result",
          "data": {
            "text/plain": [
              "128518"
            ]
          },
          "metadata": {},
          "execution_count": 28
        }
      ]
    },
    {
      "cell_type": "markdown",
      "source": [
        "# **PYHTON FOR NLP**"
      ],
      "metadata": {
        "id": "J5Xp6BonuTQ-"
      }
    },
    {
      "cell_type": "code",
      "source": [
        "# nltk : natural language tool kit\n",
        "# spacy\n",
        "# textblob\n",
        "\n",
        "'''\n",
        "Preprocessing for nlp:\n",
        "\n",
        "- removing punctuations\n",
        "- removing urls\n",
        "- removing stop words\n",
        "- lower casing\n",
        "- tokenization: lexical analysis\n",
        "- stemming\n",
        "- lemmatization\n",
        "'''"
      ],
      "metadata": {
        "id": "4a9SeBpjK9Jp",
        "colab": {
          "base_uri": "https://localhost:8080/",
          "height": 36
        },
        "outputId": "40182bed-3df6-4253-c3b5-d095d7660d9f"
      },
      "execution_count": null,
      "outputs": [
        {
          "output_type": "execute_result",
          "data": {
            "text/plain": [
              "'\\nPreprocessing for nlp:\\n\\n- removing punctuations\\n- removing urls\\n- removing stop words\\n- lower casing\\n- tokenization: lexical analysis\\n- stemming\\n- lemmatization\\n'"
            ],
            "application/vnd.google.colaboratory.intrinsic+json": {
              "type": "string"
            }
          },
          "metadata": {},
          "execution_count": 29
        }
      ]
    },
    {
      "cell_type": "code",
      "source": [
        "import nltk"
      ],
      "metadata": {
        "id": "9c6NDxXsxLYN"
      },
      "execution_count": null,
      "outputs": []
    },
    {
      "cell_type": "markdown",
      "source": [
        "**Required libraries**"
      ],
      "metadata": {
        "id": "kKTdvZ2G1gkj"
      }
    },
    {
      "cell_type": "code",
      "source": [
        "nltk.download('punkt') #tokenization\n",
        "nltk.download('stopwords')  #collection of stopwords\n",
        "nltk.download('wordnet')  #wordnet-> database of english words\n",
        "nltk.download('omw-1.4')  #Open multilingual wordnet\n",
        "nltk.download('averaged_perceptron_tagger')  #POS tagging\n",
        "nltk.download('indian')  #Indian language POS tagging\n",
        "nltk.download('maxent_ne_chunker')  #NER tagging"
      ],
      "metadata": {
        "colab": {
          "base_uri": "https://localhost:8080/"
        },
        "id": "sh3HkAGx0AAX",
        "outputId": "d90990a1-fdcf-4cca-ecf4-f93f4d93c438"
      },
      "execution_count": null,
      "outputs": [
        {
          "output_type": "stream",
          "name": "stderr",
          "text": [
            "[nltk_data] Downloading package punkt to /root/nltk_data...\n",
            "[nltk_data]   Package punkt is already up-to-date!\n",
            "[nltk_data] Downloading package stopwords to /root/nltk_data...\n",
            "[nltk_data]   Package stopwords is already up-to-date!\n",
            "[nltk_data] Downloading package wordnet to /root/nltk_data...\n",
            "[nltk_data]   Package wordnet is already up-to-date!\n",
            "[nltk_data] Downloading package omw-1.4 to /root/nltk_data...\n",
            "[nltk_data]   Package omw-1.4 is already up-to-date!\n",
            "[nltk_data] Downloading package averaged_perceptron_tagger to\n",
            "[nltk_data]     /root/nltk_data...\n",
            "[nltk_data]   Package averaged_perceptron_tagger is already up-to-\n",
            "[nltk_data]       date!\n",
            "[nltk_data] Downloading package indian to /root/nltk_data...\n",
            "[nltk_data]   Package indian is already up-to-date!\n",
            "[nltk_data] Downloading package maxent_ne_chunker to\n",
            "[nltk_data]     /root/nltk_data...\n",
            "[nltk_data]   Unzipping chunkers/maxent_ne_chunker.zip.\n"
          ]
        },
        {
          "output_type": "execute_result",
          "data": {
            "text/plain": [
              "True"
            ]
          },
          "metadata": {},
          "execution_count": 32
        }
      ]
    },
    {
      "cell_type": "code",
      "source": [
        "nltk.download('punkt_tab') #tokenization"
      ],
      "metadata": {
        "colab": {
          "base_uri": "https://localhost:8080/"
        },
        "id": "H7qNwy_A46qj",
        "outputId": "aa4f3253-60d8-4889-d6c8-901d15129cd0"
      },
      "execution_count": null,
      "outputs": [
        {
          "output_type": "stream",
          "name": "stderr",
          "text": [
            "[nltk_data] Downloading package punkt_tab to /root/nltk_data...\n",
            "[nltk_data]   Unzipping tokenizers/punkt_tab.zip.\n"
          ]
        },
        {
          "output_type": "execute_result",
          "data": {
            "text/plain": [
              "True"
            ]
          },
          "metadata": {},
          "execution_count": 38
        }
      ]
    },
    {
      "cell_type": "code",
      "source": [
        "# nltk.download()"
      ],
      "metadata": {
        "id": "iT80aVdE1ZbR"
      },
      "execution_count": null,
      "outputs": []
    },
    {
      "cell_type": "markdown",
      "source": [
        "# **Word Tokenization**"
      ],
      "metadata": {
        "id": "oWqB0OIV4hg1"
      }
    },
    {
      "cell_type": "code",
      "source": [
        "sent = 'They told that their ages are 25, 26 and 31 respectively.'"
      ],
      "metadata": {
        "id": "XDGGvNI-4kki"
      },
      "execution_count": null,
      "outputs": []
    },
    {
      "cell_type": "code",
      "source": [
        "sent.split()"
      ],
      "metadata": {
        "colab": {
          "base_uri": "https://localhost:8080/"
        },
        "id": "o--lD8oM4nZ0",
        "outputId": "713297e0-d107-4490-f9a1-45bc96da22ae"
      },
      "execution_count": null,
      "outputs": [
        {
          "output_type": "execute_result",
          "data": {
            "text/plain": [
              "['They',\n",
              " 'told',\n",
              " 'that',\n",
              " 'their',\n",
              " 'ages',\n",
              " 'are',\n",
              " '25',\n",
              " '26',\n",
              " 'and',\n",
              " '31',\n",
              " 'respectively.']"
            ]
          },
          "metadata": {},
          "execution_count": 37
        }
      ]
    },
    {
      "cell_type": "code",
      "source": [
        "from nltk.tokenize import word_tokenize"
      ],
      "metadata": {
        "id": "DKN9YLcj4pTj"
      },
      "execution_count": null,
      "outputs": []
    },
    {
      "cell_type": "code",
      "source": [
        "word_tokenize(sent)"
      ],
      "metadata": {
        "colab": {
          "base_uri": "https://localhost:8080/"
        },
        "id": "Wz0oOXLB4_b4",
        "outputId": "f634e514-e03d-4531-8710-5e010a31425b"
      },
      "execution_count": null,
      "outputs": [
        {
          "output_type": "execute_result",
          "data": {
            "text/plain": [
              "['They',\n",
              " 'told',\n",
              " 'that',\n",
              " 'their',\n",
              " 'ages',\n",
              " 'are',\n",
              " '25',\n",
              " ',',\n",
              " '26',\n",
              " 'and',\n",
              " '31',\n",
              " 'respectively',\n",
              " '.']"
            ]
          },
          "metadata": {},
          "execution_count": 42
        }
      ]
    },
    {
      "cell_type": "code",
      "source": [
        "sent1 = 'Dr. Deshmukh told me about this, that Mrs. and Mr. pande was ill.'"
      ],
      "metadata": {
        "id": "_mP01eh85BjF"
      },
      "execution_count": null,
      "outputs": []
    },
    {
      "cell_type": "code",
      "source": [
        "word_tokenize(sent1)"
      ],
      "metadata": {
        "colab": {
          "base_uri": "https://localhost:8080/"
        },
        "id": "vaUjVY2l56vx",
        "outputId": "7ed432d4-a402-49f0-cbb0-b7b03f988655"
      },
      "execution_count": null,
      "outputs": [
        {
          "output_type": "execute_result",
          "data": {
            "text/plain": [
              "['Dr.',\n",
              " 'Deshmukh',\n",
              " 'told',\n",
              " 'me',\n",
              " 'about',\n",
              " 'this',\n",
              " ',',\n",
              " 'that',\n",
              " 'Mrs.',\n",
              " 'and',\n",
              " 'Mr.',\n",
              " 'pande',\n",
              " 'was',\n",
              " 'ill',\n",
              " '.']"
            ]
          },
          "metadata": {},
          "execution_count": 48
        }
      ]
    },
    {
      "cell_type": "code",
      "source": [
        "sent2 = '''Hello friends!\n",
        "How are you? Welcome to the world of Python Programming.'''\n",
        "\n",
        "# Count percentage of punctuation in it\n"
      ],
      "metadata": {
        "id": "S0jQCSeZ58Uc"
      },
      "execution_count": null,
      "outputs": []
    },
    {
      "cell_type": "code",
      "source": [
        "tokens2 = word_tokenize(sent2)"
      ],
      "metadata": {
        "id": "2CkPt22b6eQO"
      },
      "execution_count": null,
      "outputs": []
    },
    {
      "cell_type": "code",
      "source": [
        "tokens2"
      ],
      "metadata": {
        "colab": {
          "base_uri": "https://localhost:8080/"
        },
        "id": "0sUPxq7O6guL",
        "outputId": "bbef0305-2302-4aa0-f397-ea9f0c9169e5"
      },
      "execution_count": null,
      "outputs": [
        {
          "output_type": "execute_result",
          "data": {
            "text/plain": [
              "['Hello',\n",
              " 'friends',\n",
              " '!',\n",
              " 'How',\n",
              " 'are',\n",
              " 'you',\n",
              " '?',\n",
              " 'Welcome',\n",
              " 'to',\n",
              " 'the',\n",
              " 'world',\n",
              " 'of',\n",
              " 'Python',\n",
              " 'Programming',\n",
              " '.']"
            ]
          },
          "metadata": {},
          "execution_count": 53
        }
      ]
    },
    {
      "cell_type": "code",
      "source": [
        "punctuation_count = 0\n",
        "for token in tokens2:\n",
        "  if re.match(r'[^\\w\\s]', token):  # Check if the token is punctuation\n",
        "    punctuation_count += 1\n",
        "\n",
        "total_tokens = len(tokens2)\n",
        "percentage_punctuation = (punctuation_count / total_tokens) * 100 if total_tokens > 0 else 0\n",
        "\n",
        "print(f\"Percentage of punctuation in the text: {percentage_punctuation:.2f}%\")"
      ],
      "metadata": {
        "colab": {
          "base_uri": "https://localhost:8080/"
        },
        "id": "k3kSfp2K7WT_",
        "outputId": "82de87a7-d674-457e-be59-da8e85d5b76b"
      },
      "execution_count": null,
      "outputs": [
        {
          "output_type": "stream",
          "name": "stdout",
          "text": [
            "Percentage of punctuation in the text: 20.00%\n"
          ]
        }
      ]
    },
    {
      "cell_type": "code",
      "source": [
        "import string"
      ],
      "metadata": {
        "id": "j1aEyJi27yjB"
      },
      "execution_count": null,
      "outputs": []
    },
    {
      "cell_type": "code",
      "source": [
        "count = [word for word in tokens2 if word in string.punctuation]"
      ],
      "metadata": {
        "id": "QfS2np7v6yOy"
      },
      "execution_count": null,
      "outputs": []
    },
    {
      "cell_type": "code",
      "source": [
        "len(count)/len(tokens2)*100"
      ],
      "metadata": {
        "colab": {
          "base_uri": "https://localhost:8080/"
        },
        "id": "ZH7Fa2MI72Rx",
        "outputId": "820a7173-f3f7-4509-9b6b-7e65855a775c"
      },
      "execution_count": null,
      "outputs": [
        {
          "output_type": "execute_result",
          "data": {
            "text/plain": [
              "20.0"
            ]
          },
          "metadata": {},
          "execution_count": 58
        }
      ]
    },
    {
      "cell_type": "code",
      "source": [
        "count = [word for word in tokens2 if not word.isalpha() and not word.isdigit()]"
      ],
      "metadata": {
        "id": "Vx_LjVmM7-2r"
      },
      "execution_count": null,
      "outputs": []
    },
    {
      "cell_type": "code",
      "source": [
        "len(count)/len(tokens2)*100"
      ],
      "metadata": {
        "colab": {
          "base_uri": "https://localhost:8080/"
        },
        "id": "RT7ifwB_8jKZ",
        "outputId": "44117662-a6cd-4933-8860-6f092bfcf26d"
      },
      "execution_count": null,
      "outputs": [
        {
          "output_type": "execute_result",
          "data": {
            "text/plain": [
              "20.0"
            ]
          },
          "metadata": {},
          "execution_count": 60
        }
      ]
    },
    {
      "cell_type": "code",
      "source": [],
      "metadata": {
        "id": "uSyFkma88ki-"
      },
      "execution_count": null,
      "outputs": []
    }
  ]
}