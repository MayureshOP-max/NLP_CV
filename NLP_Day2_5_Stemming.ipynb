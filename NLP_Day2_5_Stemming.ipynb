{
  "nbformat": 4,
  "nbformat_minor": 0,
  "metadata": {
    "colab": {
      "provenance": [],
      "authorship_tag": "ABX9TyNM4+0hMBbLmgJOTyQGPk5p",
      "include_colab_link": true
    },
    "kernelspec": {
      "name": "python3",
      "display_name": "Python 3"
    },
    "language_info": {
      "name": "python"
    }
  },
  "cells": [
    {
      "cell_type": "markdown",
      "metadata": {
        "id": "view-in-github",
        "colab_type": "text"
      },
      "source": [
        "<a href=\"https://colab.research.google.com/github/MayureshOP-max/NLP_CV/blob/main/NLP_Day2_5_Stemming.ipynb\" target=\"_parent\"><img src=\"https://colab.research.google.com/assets/colab-badge.svg\" alt=\"Open In Colab\"/></a>"
      ]
    },
    {
      "cell_type": "code",
      "execution_count": null,
      "metadata": {
        "id": "1SpFqsmuoeDM"
      },
      "outputs": [],
      "source": [
        "words1= 'managing','mange', 'management', 'managerial', 'managed'\n",
        "words2= 'worked', 'workable','working','worked'\n",
        "words3 = 'big','biggest','bigger'\n",
        "words4 = 'go' ,'gone', 'went', 'going'\n",
        "words5 = 'association', 'associated', 'associate'"
      ]
    },
    {
      "cell_type": "markdown",
      "source": [
        "**Porter Stemmer**"
      ],
      "metadata": {
        "id": "k5sGM7Svp0uQ"
      }
    },
    {
      "cell_type": "code",
      "source": [
        "from nltk.stem import PorterStemmer\n",
        "ps = PorterStemmer()"
      ],
      "metadata": {
        "id": "ULOfGGtcpP_-"
      },
      "execution_count": null,
      "outputs": []
    },
    {
      "cell_type": "code",
      "source": [
        "ps.stem(words1[2])"
      ],
      "metadata": {
        "colab": {
          "base_uri": "https://localhost:8080/",
          "height": 36
        },
        "id": "5JqOYSRipSEr",
        "outputId": "55b5b1c0-7d3c-4abe-b2b4-2cd10620862d"
      },
      "execution_count": null,
      "outputs": [
        {
          "output_type": "execute_result",
          "data": {
            "text/plain": [
              "'manag'"
            ],
            "application/vnd.google.colaboratory.intrinsic+json": {
              "type": "string"
            }
          },
          "metadata": {},
          "execution_count": 14
        }
      ]
    },
    {
      "cell_type": "code",
      "source": [
        "ps.stem(words2[1])"
      ],
      "metadata": {
        "colab": {
          "base_uri": "https://localhost:8080/",
          "height": 36
        },
        "id": "cqzWZGLEp8gi",
        "outputId": "18694cc8-1eac-4762-c102-a96a3d47e4b6"
      },
      "execution_count": null,
      "outputs": [
        {
          "output_type": "execute_result",
          "data": {
            "text/plain": [
              "'workabl'"
            ],
            "application/vnd.google.colaboratory.intrinsic+json": {
              "type": "string"
            }
          },
          "metadata": {},
          "execution_count": 15
        }
      ]
    },
    {
      "cell_type": "code",
      "source": [
        "ps.stem(words3[1])"
      ],
      "metadata": {
        "colab": {
          "base_uri": "https://localhost:8080/",
          "height": 36
        },
        "id": "22sHyXtYqAV6",
        "outputId": "d1903b18-7d33-499f-f38f-1d17f52b1fad"
      },
      "execution_count": null,
      "outputs": [
        {
          "output_type": "execute_result",
          "data": {
            "text/plain": [
              "'biggest'"
            ],
            "application/vnd.google.colaboratory.intrinsic+json": {
              "type": "string"
            }
          },
          "metadata": {},
          "execution_count": 16
        }
      ]
    },
    {
      "cell_type": "code",
      "source": [
        "ps.stem(words5[2])"
      ],
      "metadata": {
        "colab": {
          "base_uri": "https://localhost:8080/",
          "height": 36
        },
        "id": "iQksgfLkqJGi",
        "outputId": "077e6396-2b3d-4f7b-8083-65bd567a8913"
      },
      "execution_count": null,
      "outputs": [
        {
          "output_type": "execute_result",
          "data": {
            "text/plain": [
              "'associ'"
            ],
            "application/vnd.google.colaboratory.intrinsic+json": {
              "type": "string"
            }
          },
          "metadata": {},
          "execution_count": 17
        }
      ]
    },
    {
      "cell_type": "code",
      "source": [
        "for word in words1:\n",
        "    print(word, '-->', ps.stem(word))"
      ],
      "metadata": {
        "colab": {
          "base_uri": "https://localhost:8080/"
        },
        "id": "Qo49unVSqht5",
        "outputId": "2679605a-4940-4244-aebd-c9bc0c25465d"
      },
      "execution_count": null,
      "outputs": [
        {
          "output_type": "stream",
          "name": "stdout",
          "text": [
            "managing --> manag\n",
            "mange --> mang\n",
            "management --> manag\n",
            "managerial --> manageri\n",
            "managed --> manag\n"
          ]
        }
      ]
    },
    {
      "cell_type": "code",
      "source": [
        "for word in words2:\n",
        "    print(word, '-->', ps.stem(word))"
      ],
      "metadata": {
        "colab": {
          "base_uri": "https://localhost:8080/"
        },
        "id": "vTY1F0tZquer",
        "outputId": "7faa891d-cd02-4d07-aac4-97969115d2d0"
      },
      "execution_count": null,
      "outputs": [
        {
          "output_type": "stream",
          "name": "stdout",
          "text": [
            "worked --> work\n",
            "workable --> workabl\n",
            "working --> work\n",
            "worked --> work\n"
          ]
        }
      ]
    },
    {
      "cell_type": "code",
      "source": [
        "for word in words3:\n",
        "    print(word, '-->', ps.stem(word))"
      ],
      "metadata": {
        "colab": {
          "base_uri": "https://localhost:8080/"
        },
        "id": "FsFYu45nqy2a",
        "outputId": "dbed7569-a446-4eb5-c986-b3ddafe3ec5b"
      },
      "execution_count": null,
      "outputs": [
        {
          "output_type": "stream",
          "name": "stdout",
          "text": [
            "big --> big\n",
            "biggest --> biggest\n",
            "bigger --> bigger\n"
          ]
        }
      ]
    },
    {
      "cell_type": "code",
      "source": [
        "for word in words4:\n",
        "    print(word, '-->', ps.stem(word))"
      ],
      "metadata": {
        "colab": {
          "base_uri": "https://localhost:8080/"
        },
        "id": "EkQWShQVq58O",
        "outputId": "778804ca-536a-4827-aab7-efd51d425849"
      },
      "execution_count": null,
      "outputs": [
        {
          "output_type": "stream",
          "name": "stdout",
          "text": [
            "go --> go\n",
            "gone --> gone\n",
            "went --> went\n",
            "going --> go\n"
          ]
        }
      ]
    },
    {
      "cell_type": "code",
      "source": [
        "for word in words5:\n",
        "    print(word, '-->', ps.stem(word))"
      ],
      "metadata": {
        "colab": {
          "base_uri": "https://localhost:8080/"
        },
        "id": "lDuxay_Pq8FC",
        "outputId": "d4178766-2a67-4b52-d7f1-11e3c8932e31"
      },
      "execution_count": null,
      "outputs": [
        {
          "output_type": "stream",
          "name": "stdout",
          "text": [
            "association --> associ\n",
            "associated --> associ\n",
            "associate --> associ\n"
          ]
        }
      ]
    },
    {
      "cell_type": "code",
      "source": [
        "text = 'Hello friends! How are you? I like python programming.'"
      ],
      "metadata": {
        "id": "aRZ7cBr-rBo5"
      },
      "execution_count": null,
      "outputs": []
    },
    {
      "cell_type": "code",
      "source": [
        "from nltk.tokenize import word_tokenize\n",
        "from nltk.corpus import stopwords\n",
        "import nltk\n",
        "nltk.download('stopwords')\n",
        "\n",
        "nltk.download('punkt_tab')\n",
        "import string"
      ],
      "metadata": {
        "colab": {
          "base_uri": "https://localhost:8080/"
        },
        "id": "idsX9zVRsDgu",
        "outputId": "2bc1bf14-c3d9-4b80-f9da-0fe91c2b8488"
      },
      "execution_count": null,
      "outputs": [
        {
          "output_type": "stream",
          "name": "stderr",
          "text": [
            "[nltk_data] Downloading package stopwords to /root/nltk_data...\n",
            "[nltk_data]   Unzipping corpora/stopwords.zip.\n",
            "[nltk_data] Downloading package punkt_tab to /root/nltk_data...\n",
            "[nltk_data]   Package punkt_tab is already up-to-date!\n"
          ]
        }
      ]
    },
    {
      "cell_type": "code",
      "source": [
        "tokens1 = [word for word in word_tokenize(text) if word not in string.punctuation]"
      ],
      "metadata": {
        "id": "0kFrf1xQsLkn"
      },
      "execution_count": null,
      "outputs": []
    },
    {
      "cell_type": "code",
      "source": [
        "tokens1"
      ],
      "metadata": {
        "colab": {
          "base_uri": "https://localhost:8080/"
        },
        "id": "TelRY0IksTzd",
        "outputId": "e6c54d22-5cfa-4077-d201-b526f7f2ed42"
      },
      "execution_count": null,
      "outputs": [
        {
          "output_type": "execute_result",
          "data": {
            "text/plain": [
              "['Hello', 'friends', 'How', 'are', 'you', 'I', 'like', 'python', 'programming']"
            ]
          },
          "metadata": {},
          "execution_count": 31
        }
      ]
    },
    {
      "cell_type": "code",
      "source": [
        "swords = stopwords.words('english')\n",
        "tokens2 = [word for word in tokens1 if word.lower() not in swords]\n",
        "tokens2"
      ],
      "metadata": {
        "colab": {
          "base_uri": "https://localhost:8080/"
        },
        "id": "5cM-kPKqsc73",
        "outputId": "4ac1315f-bf75-4d10-c556-a34d11dbddb4"
      },
      "execution_count": null,
      "outputs": [
        {
          "output_type": "execute_result",
          "data": {
            "text/plain": [
              "['Hello', 'friends', 'like', 'python', 'programming']"
            ]
          },
          "metadata": {},
          "execution_count": 35
        }
      ]
    },
    {
      "cell_type": "code",
      "source": [
        "ps =PorterStemmer()\n",
        "stemmed_tokens = [ps.stem(word) for word in tokens2]\n",
        "stemmed_tokens"
      ],
      "metadata": {
        "colab": {
          "base_uri": "https://localhost:8080/"
        },
        "id": "aUniArrIspNm",
        "outputId": "16042fb2-3138-4262-ca73-5f869e9470f4"
      },
      "execution_count": null,
      "outputs": [
        {
          "output_type": "execute_result",
          "data": {
            "text/plain": [
              "['hello', 'friend', 'like', 'python', 'program']"
            ]
          },
          "metadata": {},
          "execution_count": 37
        }
      ]
    },
    {
      "cell_type": "markdown",
      "source": [
        "# **Lancaster stemmer**\n",
        "use lancaster if speed is the main concern and accuracy is not required"
      ],
      "metadata": {
        "id": "_9QrurOtut5K"
      }
    },
    {
      "cell_type": "code",
      "source": [
        "from nltk.stem import LancasterStemmer\n",
        "ls = LancasterStemmer()"
      ],
      "metadata": {
        "id": "JklT4V3ButUT"
      },
      "execution_count": null,
      "outputs": []
    },
    {
      "cell_type": "code",
      "source": [
        "ls.stem(words1[0])"
      ],
      "metadata": {
        "colab": {
          "base_uri": "https://localhost:8080/",
          "height": 36
        },
        "id": "8RufUK5MtYC0",
        "outputId": "50a49d99-5807-437b-c23f-96cd3cbfb759"
      },
      "execution_count": null,
      "outputs": [
        {
          "output_type": "execute_result",
          "data": {
            "text/plain": [
              "'man'"
            ],
            "application/vnd.google.colaboratory.intrinsic+json": {
              "type": "string"
            }
          },
          "metadata": {},
          "execution_count": 40
        }
      ]
    },
    {
      "cell_type": "code",
      "source": [
        "ls.stem(words1[3])"
      ],
      "metadata": {
        "colab": {
          "base_uri": "https://localhost:8080/",
          "height": 36
        },
        "id": "CoTpYRSwu68p",
        "outputId": "bc147cd3-9a13-4392-cfd4-7be968d0e6bb"
      },
      "execution_count": null,
      "outputs": [
        {
          "output_type": "execute_result",
          "data": {
            "text/plain": [
              "'man'"
            ],
            "application/vnd.google.colaboratory.intrinsic+json": {
              "type": "string"
            }
          },
          "metadata": {},
          "execution_count": 41
        }
      ]
    },
    {
      "cell_type": "code",
      "source": [
        "for word in words1:\n",
        "    print(word, '-->', ls.stem(word))"
      ],
      "metadata": {
        "colab": {
          "base_uri": "https://localhost:8080/"
        },
        "id": "Sw_2QEyOvCJ5",
        "outputId": "6d6abdcd-ab45-4e07-9105-d1890ea8b765"
      },
      "execution_count": null,
      "outputs": [
        {
          "output_type": "stream",
          "name": "stdout",
          "text": [
            "managing --> man\n",
            "mange --> mang\n",
            "management --> man\n",
            "managerial --> man\n",
            "managed --> man\n"
          ]
        }
      ]
    },
    {
      "cell_type": "code",
      "source": [
        "for word in words2:\n",
        "    print(word, '-->', ls.stem(word))"
      ],
      "metadata": {
        "colab": {
          "base_uri": "https://localhost:8080/"
        },
        "id": "eTJK4AuXvIK8",
        "outputId": "a4a1259b-b91b-4fe7-ce49-81cb9649a269"
      },
      "execution_count": null,
      "outputs": [
        {
          "output_type": "stream",
          "name": "stdout",
          "text": [
            "worked --> work\n",
            "workable --> work\n",
            "working --> work\n",
            "worked --> work\n"
          ]
        }
      ]
    },
    {
      "cell_type": "code",
      "source": [
        "for word in words3:\n",
        "    print(word, '-->', ls.stem(word))"
      ],
      "metadata": {
        "colab": {
          "base_uri": "https://localhost:8080/"
        },
        "id": "MvmHCzDOvLUV",
        "outputId": "1e1ca4fd-ba17-4126-ba11-3da5c45a5ea8"
      },
      "execution_count": null,
      "outputs": [
        {
          "output_type": "stream",
          "name": "stdout",
          "text": [
            "big --> big\n",
            "biggest --> biggest\n",
            "bigger --> big\n"
          ]
        }
      ]
    },
    {
      "cell_type": "code",
      "source": [
        "for word in words4:\n",
        "    print(word, '-->', ls.stem(word))"
      ],
      "metadata": {
        "colab": {
          "base_uri": "https://localhost:8080/"
        },
        "id": "v8bnzNqnvMYE",
        "outputId": "73a18818-18d9-4ba7-8ddb-e1f95e2cb92d"
      },
      "execution_count": null,
      "outputs": [
        {
          "output_type": "stream",
          "name": "stdout",
          "text": [
            "go --> go\n",
            "gone --> gon\n",
            "went --> went\n",
            "going --> going\n"
          ]
        }
      ]
    },
    {
      "cell_type": "code",
      "source": [
        "for word in words5:\n",
        "    print(word, '-->', ls.stem(word))"
      ],
      "metadata": {
        "colab": {
          "base_uri": "https://localhost:8080/"
        },
        "id": "AzLMUNpmvNxC",
        "outputId": "ae0897fc-c058-46e3-cd3e-99e51d63ac1d"
      },
      "execution_count": null,
      "outputs": [
        {
          "output_type": "stream",
          "name": "stdout",
          "text": [
            "association --> assocy\n",
            "associated --> assocy\n",
            "associate --> assocy\n"
          ]
        }
      ]
    },
    {
      "cell_type": "markdown",
      "source": [
        "# **SnowBall Stemmer**\n",
        "#supports other languages\n",
        "The Snowball stemmer is way more aggressive than Porter Stemmer and is also referred to as Porter2 Stemmer\n",
        "when compared to the Porter Stemmer, the Snowball stemmer is having greater computational speed."
      ],
      "metadata": {
        "id": "EgO9trtBwhaK"
      }
    },
    {
      "cell_type": "code",
      "source": [
        "from nltk.stem import SnowballStemmer\n",
        "ss = SnowballStemmer('english')"
      ],
      "metadata": {
        "id": "u-qiPAhWvO5z"
      },
      "execution_count": null,
      "outputs": []
    },
    {
      "cell_type": "code",
      "source": [
        "for word in words1:\n",
        "    print(word, '-->', ss.stem(word))"
      ],
      "metadata": {
        "colab": {
          "base_uri": "https://localhost:8080/"
        },
        "id": "vtRnRFccwlYu",
        "outputId": "96d7f1b9-4268-41d0-86a1-f76e86ba31ee"
      },
      "execution_count": null,
      "outputs": [
        {
          "output_type": "stream",
          "name": "stdout",
          "text": [
            "managing --> manag\n",
            "mange --> mang\n",
            "management --> manag\n",
            "managerial --> manageri\n",
            "managed --> manag\n"
          ]
        }
      ]
    },
    {
      "cell_type": "code",
      "source": [
        "for word in words2:\n",
        "    print(word, '-->', ss.stem(word))"
      ],
      "metadata": {
        "colab": {
          "base_uri": "https://localhost:8080/"
        },
        "id": "Mc5KscI6wpZy",
        "outputId": "3bcd40c6-8408-4f8f-9214-00b2c3d96e54"
      },
      "execution_count": null,
      "outputs": [
        {
          "output_type": "stream",
          "name": "stdout",
          "text": [
            "worked --> work\n",
            "workable --> workabl\n",
            "working --> work\n",
            "worked --> work\n"
          ]
        }
      ]
    },
    {
      "cell_type": "code",
      "source": [
        "for word in words3:\n",
        "    print(word, '-->', ss.stem(word))"
      ],
      "metadata": {
        "colab": {
          "base_uri": "https://localhost:8080/"
        },
        "id": "pY033s6Jwq2C",
        "outputId": "44aaaf10-79e5-4c37-d66f-e0343c383f29"
      },
      "execution_count": null,
      "outputs": [
        {
          "output_type": "stream",
          "name": "stdout",
          "text": [
            "big --> big\n",
            "biggest --> biggest\n",
            "bigger --> bigger\n"
          ]
        }
      ]
    },
    {
      "cell_type": "code",
      "source": [
        "for word in words4:\n",
        "    print(word, '-->', ss.stem(word))"
      ],
      "metadata": {
        "colab": {
          "base_uri": "https://localhost:8080/"
        },
        "id": "mJAXrBHCwygR",
        "outputId": "12ad89ed-ba40-47fc-badf-eec792b24851"
      },
      "execution_count": null,
      "outputs": [
        {
          "output_type": "stream",
          "name": "stdout",
          "text": [
            "go --> go\n",
            "gone --> gone\n",
            "went --> went\n",
            "going --> go\n"
          ]
        }
      ]
    },
    {
      "cell_type": "code",
      "source": [
        "for word in words5:\n",
        "    print(word, '-->', ss.stem(word))"
      ],
      "metadata": {
        "colab": {
          "base_uri": "https://localhost:8080/"
        },
        "id": "rVki3CX2w076",
        "outputId": "551414b9-8fce-41f6-bd70-2b36cf488beb"
      },
      "execution_count": null,
      "outputs": [
        {
          "output_type": "stream",
          "name": "stdout",
          "text": [
            "association --> associ\n",
            "associated --> associ\n",
            "associate --> associ\n"
          ]
        }
      ]
    },
    {
      "cell_type": "code",
      "source": [
        "ss.languages"
      ],
      "metadata": {
        "colab": {
          "base_uri": "https://localhost:8080/"
        },
        "id": "maHdDWd-x-Y2",
        "outputId": "b0a59321-8051-4c4c-8ac0-c5814f488ad6"
      },
      "execution_count": null,
      "outputs": [
        {
          "output_type": "execute_result",
          "data": {
            "text/plain": [
              "('arabic',\n",
              " 'danish',\n",
              " 'dutch',\n",
              " 'english',\n",
              " 'finnish',\n",
              " 'french',\n",
              " 'german',\n",
              " 'hungarian',\n",
              " 'italian',\n",
              " 'norwegian',\n",
              " 'porter',\n",
              " 'portuguese',\n",
              " 'romanian',\n",
              " 'russian',\n",
              " 'spanish',\n",
              " 'swedish')"
            ]
          },
          "metadata": {},
          "execution_count": 55
        }
      ]
    },
    {
      "cell_type": "code",
      "source": [
        "ss1 = SnowballStemmer('french')   #supports multiple languages"
      ],
      "metadata": {
        "id": "XO9meKR9w127"
      },
      "execution_count": null,
      "outputs": []
    },
    {
      "cell_type": "code",
      "source": [
        "ss1 = SnowballStemmer('portuguese')"
      ],
      "metadata": {
        "id": "CLV2hwO4zBCL"
      },
      "execution_count": null,
      "outputs": []
    },
    {
      "cell_type": "code",
      "source": [
        "fnc = 'Comment vous appelez-vous?'\n",
        "ss.stem(fnc)"
      ],
      "metadata": {
        "colab": {
          "base_uri": "https://localhost:8080/",
          "height": 36
        },
        "id": "XUXeCdXFxqGt",
        "outputId": "2c770b32-b755-4d2b-ce4f-d77b42f131c1"
      },
      "execution_count": null,
      "outputs": [
        {
          "output_type": "execute_result",
          "data": {
            "text/plain": [
              "'comment vous appelez-vous?'"
            ],
            "application/vnd.google.colaboratory.intrinsic+json": {
              "type": "string"
            }
          },
          "metadata": {},
          "execution_count": 56
        }
      ]
    },
    {
      "cell_type": "markdown",
      "source": [
        "# **WordNet Lemmatizer**"
      ],
      "metadata": {
        "id": "FCe2NOgAzlsj"
      }
    },
    {
      "cell_type": "code",
      "source": [
        "nltk.download('wordnet')\n",
        "from nltk.stem import WordNetLemmatizer\n",
        "wnl = WordNetLemmatizer()"
      ],
      "metadata": {
        "colab": {
          "base_uri": "https://localhost:8080/"
        },
        "id": "weoakvWyyWyP",
        "outputId": "0b501357-5295-42f1-a417-21b2e8fff3f5"
      },
      "execution_count": null,
      "outputs": [
        {
          "output_type": "stream",
          "name": "stderr",
          "text": [
            "[nltk_data] Downloading package wordnet to /root/nltk_data...\n"
          ]
        }
      ]
    },
    {
      "cell_type": "code",
      "source": [
        "wnl.lemmatize('players', pos='n')"
      ],
      "metadata": {
        "colab": {
          "base_uri": "https://localhost:8080/",
          "height": 36
        },
        "id": "GvmKcFT2zoVl",
        "outputId": "cb474f10-2932-47b4-b5ec-f60e6a94bb10"
      },
      "execution_count": null,
      "outputs": [
        {
          "output_type": "execute_result",
          "data": {
            "text/plain": [
              "'player'"
            ],
            "application/vnd.google.colaboratory.intrinsic+json": {
              "type": "string"
            }
          },
          "metadata": {},
          "execution_count": 64
        }
      ]
    },
    {
      "cell_type": "code",
      "source": [
        "print(wnl.lemmatize('players', pos='n'))    #noun   ***\n",
        "print(wnl.lemmatize('players', pos='v'))    #verb\n",
        "print(wnl.lemmatize('players', pos='a'))    #adjective\n",
        "print(wnl.lemmatize('players', pos='r'))    #adverb"
      ],
      "metadata": {
        "colab": {
          "base_uri": "https://localhost:8080/"
        },
        "id": "xk2_jA9AzvX_",
        "outputId": "0a08b9dd-a143-4f7e-bebc-175902a03249"
      },
      "execution_count": null,
      "outputs": [
        {
          "output_type": "stream",
          "name": "stdout",
          "text": [
            "player\n",
            "players\n",
            "players\n",
            "players\n"
          ]
        }
      ]
    },
    {
      "cell_type": "code",
      "source": [
        "print(wnl.lemmatize('playing', pos='n'))    #noun\n",
        "print(wnl.lemmatize('playing', pos='v'))    #verb   ***\n",
        "print(wnl.lemmatize('playing', pos='a'))    #adjective\n",
        "print(wnl.lemmatize('playing', pos='r'))    #adverb"
      ],
      "metadata": {
        "colab": {
          "base_uri": "https://localhost:8080/"
        },
        "id": "lhHWLlHJ0A7Z",
        "outputId": "8c56960f-0709-4944-93a5-2780233eb129"
      },
      "execution_count": null,
      "outputs": [
        {
          "output_type": "stream",
          "name": "stdout",
          "text": [
            "playing\n",
            "play\n",
            "playing\n",
            "playing\n"
          ]
        }
      ]
    },
    {
      "cell_type": "code",
      "source": [
        "for word in words1:\n",
        "    print(wnl.lemmatize(word, pos='v'))"
      ],
      "metadata": {
        "colab": {
          "base_uri": "https://localhost:8080/"
        },
        "id": "242jL_z-0aGP",
        "outputId": "f77b8cc6-61e5-48aa-c769-1774cc568038"
      },
      "execution_count": null,
      "outputs": [
        {
          "output_type": "stream",
          "name": "stdout",
          "text": [
            "manage\n",
            "mange\n",
            "management\n",
            "managerial\n",
            "manage\n"
          ]
        }
      ]
    },
    {
      "cell_type": "code",
      "source": [
        "for word in words2:\n",
        "    print(wnl.lemmatize(word, pos='v'))"
      ],
      "metadata": {
        "colab": {
          "base_uri": "https://localhost:8080/"
        },
        "id": "BGhpfhGl1A4S",
        "outputId": "498453b5-643e-41f1-d3ee-956cc97105e8"
      },
      "execution_count": null,
      "outputs": [
        {
          "output_type": "stream",
          "name": "stdout",
          "text": [
            "work\n",
            "workable\n",
            "work\n",
            "work\n"
          ]
        }
      ]
    },
    {
      "cell_type": "code",
      "source": [
        "for word in words3:\n",
        "    print(wnl.lemmatize(word, pos='a'))"
      ],
      "metadata": {
        "colab": {
          "base_uri": "https://localhost:8080/"
        },
        "id": "HA1EfDIy1ZEl",
        "outputId": "557f28b5-2cd9-4259-9a9d-66aa92932697"
      },
      "execution_count": null,
      "outputs": [
        {
          "output_type": "stream",
          "name": "stdout",
          "text": [
            "big\n",
            "big\n",
            "big\n"
          ]
        }
      ]
    },
    {
      "cell_type": "code",
      "source": [
        "for word in words4:\n",
        "    print(wnl.lemmatize(word, pos='v'))"
      ],
      "metadata": {
        "colab": {
          "base_uri": "https://localhost:8080/"
        },
        "id": "-36o0chq1bKT",
        "outputId": "f198719b-ea00-4f35-a2f3-048fa59e2911"
      },
      "execution_count": null,
      "outputs": [
        {
          "output_type": "stream",
          "name": "stdout",
          "text": [
            "go\n",
            "go\n",
            "go\n",
            "go\n"
          ]
        }
      ]
    },
    {
      "cell_type": "code",
      "source": [
        "for word in words5:\n",
        "    print(wnl.lemmatize(word, pos='v'))"
      ],
      "metadata": {
        "colab": {
          "base_uri": "https://localhost:8080/"
        },
        "id": "RupGt4fo1s4u",
        "outputId": "fd98a382-e6fc-49ea-c69e-dd19b24b9da3"
      },
      "execution_count": null,
      "outputs": [
        {
          "output_type": "stream",
          "name": "stdout",
          "text": [
            "association\n",
            "associate\n",
            "associate\n"
          ]
        }
      ]
    },
    {
      "cell_type": "code",
      "source": [
        "text = '''India, officially the Republic of India,[j][20] is a country in South Asia. It is the seventh-largest country in the world by area and the most populous country. Bounded by the Indian Ocean on the south, the Arabian Sea on the southwest, and the Bay of Bengal on the southeast, it shares land borders with Pakistan to the west;[k] China, Nepal, and Bhutan to the north; and Bangladesh and Myanmar to the east. In the Indian Ocean, India is in the vicinity of Sri Lanka and the Maldives; its Andaman and Nicobar Islands share a maritime border with Thailand, Myanmar, and Indonesia.\n",
        "\n",
        "Modern humans arrived on the Indian subcontinent from Africa no later than 55,000 years ago.[22][23][24] Their long occupation, initially in varying forms of isolation as hunter-gatherers, has made the region highly diverse, second only to Africa in human genetic diversity.[25] Settled life emerged on the subcontinent in the western margins of the Indus river basin 9,000 years ago, evolving gradually into the Indus Valley Civilisation of the third millennium BCE.[26] By at least 1200 BCE, an archaic form of Sanskrit, an Indo-European language, had diffused into India from the northwest.[27][28] Its evidence today is found in the hymns of the Rigveda. Preserved by an oral tradition that was resolutely vigilant, the Rigveda records the dawning of Hinduism in India.[29] The Dravidian languages of India were supplanted in the northern and western regions.[30] By 400 BCE, stratification and exclusion by caste had emerged within Hinduism,[31] and Buddhism and Jainism had arisen, proclaiming social orders unlinked to heredity.[32] Early political consolidations gave rise to the loose-knit Maurya and Gupta Empires based in the Ganges Basin.[33] Their collective era was suffused with wide-ranging creativity,[34] but also marked by the declining status of women,[35] and the incorporation of untouchability into an organised system of belief.[l][36] The Middle kingdoms exported Sanskrit language, south Indian scripts and religions of Hinduism and Buddhism to the Southeast Asia.[37]'''"
      ],
      "metadata": {
        "id": "xKQOXkJB18U4"
      },
      "execution_count": null,
      "outputs": []
    },
    {
      "cell_type": "code",
      "source": [
        "text"
      ],
      "metadata": {
        "colab": {
          "base_uri": "https://localhost:8080/",
          "height": 227
        },
        "id": "uHsF2ATx35If",
        "outputId": "2fff5095-e985-45c2-9f5e-f8b4dd3b198d"
      },
      "execution_count": null,
      "outputs": [
        {
          "output_type": "execute_result",
          "data": {
            "text/plain": [
              "'India, officially the Republic of India,[j][20] is a country in South Asia. It is the seventh-largest country in the world by area and the most populous country. Bounded by the Indian Ocean on the south, the Arabian Sea on the southwest, and the Bay of Bengal on the southeast, it shares land borders with Pakistan to the west;[k] China, Nepal, and Bhutan to the north; and Bangladesh and Myanmar to the east. In the Indian Ocean, India is in the vicinity of Sri Lanka and the Maldives; its Andaman and Nicobar Islands share a maritime border with Thailand, Myanmar, and Indonesia.\\n\\nModern humans arrived on the Indian subcontinent from Africa no later than 55,000 years ago.[22][23][24] Their long occupation, initially in varying forms of isolation as hunter-gatherers, has made the region highly diverse, second only to Africa in human genetic diversity.[25] Settled life emerged on the subcontinent in the western margins of the Indus river basin 9,000 years ago, evolving gradually into the Indus Valley Civilisation of the third millennium BCE.[26] By at least 1200 BCE, an archaic form of Sanskrit, an Indo-European language, had diffused into India from the northwest.[27][28] Its evidence today is found in the hymns of the Rigveda. Preserved by an oral tradition that was resolutely vigilant, the Rigveda records the dawning of Hinduism in India.[29] The Dravidian languages of India were supplanted in the northern and western regions.[30] By 400 BCE, stratification and exclusion by caste had emerged within Hinduism,[31] and Buddhism and Jainism had arisen, proclaiming social orders unlinked to heredity.[32] Early political consolidations gave rise to the loose-knit Maurya and Gupta Empires based in the Ganges Basin.[33] Their collective era was suffused with wide-ranging creativity,[34] but also marked by the declining status of women,[35] and the incorporation of untouchability into an organised system of belief.[l][36] The Middle kingdoms exported Sanskrit language, south Indian scripts and religions of Hinduism and Buddhism to the Southeast Asia.[37]'"
            ],
            "application/vnd.google.colaboratory.intrinsic+json": {
              "type": "string"
            }
          },
          "metadata": {},
          "execution_count": 82
        }
      ]
    },
    {
      "cell_type": "code",
      "source": [
        "from nltk.tokenize import word_tokenize"
      ],
      "metadata": {
        "id": "DT0l0JDX36OA"
      },
      "execution_count": null,
      "outputs": []
    },
    {
      "cell_type": "code",
      "source": [
        "tokens = word_tokenize(text)"
      ],
      "metadata": {
        "id": "QCDHbq4q4MCl"
      },
      "execution_count": null,
      "outputs": []
    },
    {
      "cell_type": "code",
      "source": [
        "tokens"
      ],
      "metadata": {
        "colab": {
          "base_uri": "https://localhost:8080/"
        },
        "id": "sWOyuuoJ4SUE",
        "outputId": "7fcdbda9-e773-46e4-fd88-99ae895cc79f"
      },
      "execution_count": null,
      "outputs": [
        {
          "output_type": "execute_result",
          "data": {
            "text/plain": [
              "['India',\n",
              " ',',\n",
              " 'officially',\n",
              " 'the',\n",
              " 'Republic',\n",
              " 'of',\n",
              " 'India',\n",
              " ',',\n",
              " '[',\n",
              " 'j',\n",
              " ']',\n",
              " '[',\n",
              " '20',\n",
              " ']',\n",
              " 'is',\n",
              " 'a',\n",
              " 'country',\n",
              " 'in',\n",
              " 'South',\n",
              " 'Asia',\n",
              " '.',\n",
              " 'It',\n",
              " 'is',\n",
              " 'the',\n",
              " 'seventh-largest',\n",
              " 'country',\n",
              " 'in',\n",
              " 'the',\n",
              " 'world',\n",
              " 'by',\n",
              " 'area',\n",
              " 'and',\n",
              " 'the',\n",
              " 'most',\n",
              " 'populous',\n",
              " 'country',\n",
              " '.',\n",
              " 'Bounded',\n",
              " 'by',\n",
              " 'the',\n",
              " 'Indian',\n",
              " 'Ocean',\n",
              " 'on',\n",
              " 'the',\n",
              " 'south',\n",
              " ',',\n",
              " 'the',\n",
              " 'Arabian',\n",
              " 'Sea',\n",
              " 'on',\n",
              " 'the',\n",
              " 'southwest',\n",
              " ',',\n",
              " 'and',\n",
              " 'the',\n",
              " 'Bay',\n",
              " 'of',\n",
              " 'Bengal',\n",
              " 'on',\n",
              " 'the',\n",
              " 'southeast',\n",
              " ',',\n",
              " 'it',\n",
              " 'shares',\n",
              " 'land',\n",
              " 'borders',\n",
              " 'with',\n",
              " 'Pakistan',\n",
              " 'to',\n",
              " 'the',\n",
              " 'west',\n",
              " ';',\n",
              " '[',\n",
              " 'k',\n",
              " ']',\n",
              " 'China',\n",
              " ',',\n",
              " 'Nepal',\n",
              " ',',\n",
              " 'and',\n",
              " 'Bhutan',\n",
              " 'to',\n",
              " 'the',\n",
              " 'north',\n",
              " ';',\n",
              " 'and',\n",
              " 'Bangladesh',\n",
              " 'and',\n",
              " 'Myanmar',\n",
              " 'to',\n",
              " 'the',\n",
              " 'east',\n",
              " '.',\n",
              " 'In',\n",
              " 'the',\n",
              " 'Indian',\n",
              " 'Ocean',\n",
              " ',',\n",
              " 'India',\n",
              " 'is',\n",
              " 'in',\n",
              " 'the',\n",
              " 'vicinity',\n",
              " 'of',\n",
              " 'Sri',\n",
              " 'Lanka',\n",
              " 'and',\n",
              " 'the',\n",
              " 'Maldives',\n",
              " ';',\n",
              " 'its',\n",
              " 'Andaman',\n",
              " 'and',\n",
              " 'Nicobar',\n",
              " 'Islands',\n",
              " 'share',\n",
              " 'a',\n",
              " 'maritime',\n",
              " 'border',\n",
              " 'with',\n",
              " 'Thailand',\n",
              " ',',\n",
              " 'Myanmar',\n",
              " ',',\n",
              " 'and',\n",
              " 'Indonesia',\n",
              " '.',\n",
              " 'Modern',\n",
              " 'humans',\n",
              " 'arrived',\n",
              " 'on',\n",
              " 'the',\n",
              " 'Indian',\n",
              " 'subcontinent',\n",
              " 'from',\n",
              " 'Africa',\n",
              " 'no',\n",
              " 'later',\n",
              " 'than',\n",
              " '55,000',\n",
              " 'years',\n",
              " 'ago',\n",
              " '.',\n",
              " '[',\n",
              " '22',\n",
              " ']',\n",
              " '[',\n",
              " '23',\n",
              " ']',\n",
              " '[',\n",
              " '24',\n",
              " ']',\n",
              " 'Their',\n",
              " 'long',\n",
              " 'occupation',\n",
              " ',',\n",
              " 'initially',\n",
              " 'in',\n",
              " 'varying',\n",
              " 'forms',\n",
              " 'of',\n",
              " 'isolation',\n",
              " 'as',\n",
              " 'hunter-gatherers',\n",
              " ',',\n",
              " 'has',\n",
              " 'made',\n",
              " 'the',\n",
              " 'region',\n",
              " 'highly',\n",
              " 'diverse',\n",
              " ',',\n",
              " 'second',\n",
              " 'only',\n",
              " 'to',\n",
              " 'Africa',\n",
              " 'in',\n",
              " 'human',\n",
              " 'genetic',\n",
              " 'diversity',\n",
              " '.',\n",
              " '[',\n",
              " '25',\n",
              " ']',\n",
              " 'Settled',\n",
              " 'life',\n",
              " 'emerged',\n",
              " 'on',\n",
              " 'the',\n",
              " 'subcontinent',\n",
              " 'in',\n",
              " 'the',\n",
              " 'western',\n",
              " 'margins',\n",
              " 'of',\n",
              " 'the',\n",
              " 'Indus',\n",
              " 'river',\n",
              " 'basin',\n",
              " '9,000',\n",
              " 'years',\n",
              " 'ago',\n",
              " ',',\n",
              " 'evolving',\n",
              " 'gradually',\n",
              " 'into',\n",
              " 'the',\n",
              " 'Indus',\n",
              " 'Valley',\n",
              " 'Civilisation',\n",
              " 'of',\n",
              " 'the',\n",
              " 'third',\n",
              " 'millennium',\n",
              " 'BCE',\n",
              " '.',\n",
              " '[',\n",
              " '26',\n",
              " ']',\n",
              " 'By',\n",
              " 'at',\n",
              " 'least',\n",
              " '1200',\n",
              " 'BCE',\n",
              " ',',\n",
              " 'an',\n",
              " 'archaic',\n",
              " 'form',\n",
              " 'of',\n",
              " 'Sanskrit',\n",
              " ',',\n",
              " 'an',\n",
              " 'Indo-European',\n",
              " 'language',\n",
              " ',',\n",
              " 'had',\n",
              " 'diffused',\n",
              " 'into',\n",
              " 'India',\n",
              " 'from',\n",
              " 'the',\n",
              " 'northwest',\n",
              " '.',\n",
              " '[',\n",
              " '27',\n",
              " ']',\n",
              " '[',\n",
              " '28',\n",
              " ']',\n",
              " 'Its',\n",
              " 'evidence',\n",
              " 'today',\n",
              " 'is',\n",
              " 'found',\n",
              " 'in',\n",
              " 'the',\n",
              " 'hymns',\n",
              " 'of',\n",
              " 'the',\n",
              " 'Rigveda',\n",
              " '.',\n",
              " 'Preserved',\n",
              " 'by',\n",
              " 'an',\n",
              " 'oral',\n",
              " 'tradition',\n",
              " 'that',\n",
              " 'was',\n",
              " 'resolutely',\n",
              " 'vigilant',\n",
              " ',',\n",
              " 'the',\n",
              " 'Rigveda',\n",
              " 'records',\n",
              " 'the',\n",
              " 'dawning',\n",
              " 'of',\n",
              " 'Hinduism',\n",
              " 'in',\n",
              " 'India',\n",
              " '.',\n",
              " '[',\n",
              " '29',\n",
              " ']',\n",
              " 'The',\n",
              " 'Dravidian',\n",
              " 'languages',\n",
              " 'of',\n",
              " 'India',\n",
              " 'were',\n",
              " 'supplanted',\n",
              " 'in',\n",
              " 'the',\n",
              " 'northern',\n",
              " 'and',\n",
              " 'western',\n",
              " 'regions',\n",
              " '.',\n",
              " '[',\n",
              " '30',\n",
              " ']',\n",
              " 'By',\n",
              " '400',\n",
              " 'BCE',\n",
              " ',',\n",
              " 'stratification',\n",
              " 'and',\n",
              " 'exclusion',\n",
              " 'by',\n",
              " 'caste',\n",
              " 'had',\n",
              " 'emerged',\n",
              " 'within',\n",
              " 'Hinduism',\n",
              " ',',\n",
              " '[',\n",
              " '31',\n",
              " ']',\n",
              " 'and',\n",
              " 'Buddhism',\n",
              " 'and',\n",
              " 'Jainism',\n",
              " 'had',\n",
              " 'arisen',\n",
              " ',',\n",
              " 'proclaiming',\n",
              " 'social',\n",
              " 'orders',\n",
              " 'unlinked',\n",
              " 'to',\n",
              " 'heredity',\n",
              " '.',\n",
              " '[',\n",
              " '32',\n",
              " ']',\n",
              " 'Early',\n",
              " 'political',\n",
              " 'consolidations',\n",
              " 'gave',\n",
              " 'rise',\n",
              " 'to',\n",
              " 'the',\n",
              " 'loose-knit',\n",
              " 'Maurya',\n",
              " 'and',\n",
              " 'Gupta',\n",
              " 'Empires',\n",
              " 'based',\n",
              " 'in',\n",
              " 'the',\n",
              " 'Ganges',\n",
              " 'Basin',\n",
              " '.',\n",
              " '[',\n",
              " '33',\n",
              " ']',\n",
              " 'Their',\n",
              " 'collective',\n",
              " 'era',\n",
              " 'was',\n",
              " 'suffused',\n",
              " 'with',\n",
              " 'wide-ranging',\n",
              " 'creativity',\n",
              " ',',\n",
              " '[',\n",
              " '34',\n",
              " ']',\n",
              " 'but',\n",
              " 'also',\n",
              " 'marked',\n",
              " 'by',\n",
              " 'the',\n",
              " 'declining',\n",
              " 'status',\n",
              " 'of',\n",
              " 'women',\n",
              " ',',\n",
              " '[',\n",
              " '35',\n",
              " ']',\n",
              " 'and',\n",
              " 'the',\n",
              " 'incorporation',\n",
              " 'of',\n",
              " 'untouchability',\n",
              " 'into',\n",
              " 'an',\n",
              " 'organised',\n",
              " 'system',\n",
              " 'of',\n",
              " 'belief',\n",
              " '.',\n",
              " '[',\n",
              " 'l',\n",
              " ']',\n",
              " '[',\n",
              " '36',\n",
              " ']',\n",
              " 'The',\n",
              " 'Middle',\n",
              " 'kingdoms',\n",
              " 'exported',\n",
              " 'Sanskrit',\n",
              " 'language',\n",
              " ',',\n",
              " 'south',\n",
              " 'Indian',\n",
              " 'scripts',\n",
              " 'and',\n",
              " 'religions',\n",
              " 'of',\n",
              " 'Hinduism',\n",
              " 'and',\n",
              " 'Buddhism',\n",
              " 'to',\n",
              " 'the',\n",
              " 'Southeast',\n",
              " 'Asia',\n",
              " '.',\n",
              " '[',\n",
              " '37',\n",
              " ']']"
            ]
          },
          "metadata": {},
          "execution_count": 85
        }
      ]
    },
    {
      "cell_type": "code",
      "source": [
        "tokens = [word for word in tokens if word not in string.punctuation]"
      ],
      "metadata": {
        "id": "JVpa0Koo4plh"
      },
      "execution_count": null,
      "outputs": []
    },
    {
      "cell_type": "code",
      "source": [
        "for word in tokens:\n",
        "    print(ps.stem(word))"
      ],
      "metadata": {
        "colab": {
          "base_uri": "https://localhost:8080/"
        },
        "id": "2iRkbzDg4Tkj",
        "outputId": "68d0a71e-7717-4acc-8a1b-096f06eb27ef"
      },
      "execution_count": null,
      "outputs": [
        {
          "output_type": "stream",
          "name": "stdout",
          "text": [
            "india\n",
            "offici\n",
            "the\n",
            "republ\n",
            "of\n",
            "india\n",
            "j\n",
            "20\n",
            "is\n",
            "a\n",
            "countri\n",
            "in\n",
            "south\n",
            "asia\n",
            "it\n",
            "is\n",
            "the\n",
            "seventh-largest\n",
            "countri\n",
            "in\n",
            "the\n",
            "world\n",
            "by\n",
            "area\n",
            "and\n",
            "the\n",
            "most\n",
            "popul\n",
            "countri\n",
            "bound\n",
            "by\n",
            "the\n",
            "indian\n",
            "ocean\n",
            "on\n",
            "the\n",
            "south\n",
            "the\n",
            "arabian\n",
            "sea\n",
            "on\n",
            "the\n",
            "southwest\n",
            "and\n",
            "the\n",
            "bay\n",
            "of\n",
            "bengal\n",
            "on\n",
            "the\n",
            "southeast\n",
            "it\n",
            "share\n",
            "land\n",
            "border\n",
            "with\n",
            "pakistan\n",
            "to\n",
            "the\n",
            "west\n",
            "k\n",
            "china\n",
            "nepal\n",
            "and\n",
            "bhutan\n",
            "to\n",
            "the\n",
            "north\n",
            "and\n",
            "bangladesh\n",
            "and\n",
            "myanmar\n",
            "to\n",
            "the\n",
            "east\n",
            "in\n",
            "the\n",
            "indian\n",
            "ocean\n",
            "india\n",
            "is\n",
            "in\n",
            "the\n",
            "vicin\n",
            "of\n",
            "sri\n",
            "lanka\n",
            "and\n",
            "the\n",
            "maldiv\n",
            "it\n",
            "andaman\n",
            "and\n",
            "nicobar\n",
            "island\n",
            "share\n",
            "a\n",
            "maritim\n",
            "border\n",
            "with\n",
            "thailand\n",
            "myanmar\n",
            "and\n",
            "indonesia\n",
            "modern\n",
            "human\n",
            "arriv\n",
            "on\n",
            "the\n",
            "indian\n",
            "subcontin\n",
            "from\n",
            "africa\n",
            "no\n",
            "later\n",
            "than\n",
            "55,000\n",
            "year\n",
            "ago\n",
            "22\n",
            "23\n",
            "24\n",
            "their\n",
            "long\n",
            "occup\n",
            "initi\n",
            "in\n",
            "vari\n",
            "form\n",
            "of\n",
            "isol\n",
            "as\n",
            "hunter-gather\n",
            "ha\n",
            "made\n",
            "the\n",
            "region\n",
            "highli\n",
            "divers\n",
            "second\n",
            "onli\n",
            "to\n",
            "africa\n",
            "in\n",
            "human\n",
            "genet\n",
            "divers\n",
            "25\n",
            "settl\n",
            "life\n",
            "emerg\n",
            "on\n",
            "the\n",
            "subcontin\n",
            "in\n",
            "the\n",
            "western\n",
            "margin\n",
            "of\n",
            "the\n",
            "indu\n",
            "river\n",
            "basin\n",
            "9,000\n",
            "year\n",
            "ago\n",
            "evolv\n",
            "gradual\n",
            "into\n",
            "the\n",
            "indu\n",
            "valley\n",
            "civilis\n",
            "of\n",
            "the\n",
            "third\n",
            "millennium\n",
            "bce\n",
            "26\n",
            "by\n",
            "at\n",
            "least\n",
            "1200\n",
            "bce\n",
            "an\n",
            "archaic\n",
            "form\n",
            "of\n",
            "sanskrit\n",
            "an\n",
            "indo-european\n",
            "languag\n",
            "had\n",
            "diffus\n",
            "into\n",
            "india\n",
            "from\n",
            "the\n",
            "northwest\n",
            "27\n",
            "28\n",
            "it\n",
            "evid\n",
            "today\n",
            "is\n",
            "found\n",
            "in\n",
            "the\n",
            "hymn\n",
            "of\n",
            "the\n",
            "rigveda\n",
            "preserv\n",
            "by\n",
            "an\n",
            "oral\n",
            "tradit\n",
            "that\n",
            "wa\n",
            "resolut\n",
            "vigil\n",
            "the\n",
            "rigveda\n",
            "record\n",
            "the\n",
            "dawn\n",
            "of\n",
            "hinduism\n",
            "in\n",
            "india\n",
            "29\n",
            "the\n",
            "dravidian\n",
            "languag\n",
            "of\n",
            "india\n",
            "were\n",
            "supplant\n",
            "in\n",
            "the\n",
            "northern\n",
            "and\n",
            "western\n",
            "region\n",
            "30\n",
            "by\n",
            "400\n",
            "bce\n",
            "stratif\n",
            "and\n",
            "exclus\n",
            "by\n",
            "cast\n",
            "had\n",
            "emerg\n",
            "within\n",
            "hinduism\n",
            "31\n",
            "and\n",
            "buddhism\n",
            "and\n",
            "jainism\n",
            "had\n",
            "arisen\n",
            "proclaim\n",
            "social\n",
            "order\n",
            "unlink\n",
            "to\n",
            "hered\n",
            "32\n",
            "earli\n",
            "polit\n",
            "consolid\n",
            "gave\n",
            "rise\n",
            "to\n",
            "the\n",
            "loose-knit\n",
            "maurya\n",
            "and\n",
            "gupta\n",
            "empir\n",
            "base\n",
            "in\n",
            "the\n",
            "gang\n",
            "basin\n",
            "33\n",
            "their\n",
            "collect\n",
            "era\n",
            "wa\n",
            "suffus\n",
            "with\n",
            "wide-rang\n",
            "creativ\n",
            "34\n",
            "but\n",
            "also\n",
            "mark\n",
            "by\n",
            "the\n",
            "declin\n",
            "statu\n",
            "of\n",
            "women\n",
            "35\n",
            "and\n",
            "the\n",
            "incorpor\n",
            "of\n",
            "untouch\n",
            "into\n",
            "an\n",
            "organis\n",
            "system\n",
            "of\n",
            "belief\n",
            "l\n",
            "36\n",
            "the\n",
            "middl\n",
            "kingdom\n",
            "export\n",
            "sanskrit\n",
            "languag\n",
            "south\n",
            "indian\n",
            "script\n",
            "and\n",
            "religion\n",
            "of\n",
            "hinduism\n",
            "and\n",
            "buddhism\n",
            "to\n",
            "the\n",
            "southeast\n",
            "asia\n",
            "37\n"
          ]
        }
      ]
    },
    {
      "cell_type": "code",
      "source": [
        "for word in tokens:\n",
        "    print(wnl.lemmatize(word,pos = 'v'))"
      ],
      "metadata": {
        "colab": {
          "base_uri": "https://localhost:8080/"
        },
        "id": "3b2lUhsJ4fSg",
        "outputId": "70f5f46c-1738-4547-c171-d90a7d13643a"
      },
      "execution_count": null,
      "outputs": [
        {
          "output_type": "stream",
          "name": "stdout",
          "text": [
            "India\n",
            "officially\n",
            "the\n",
            "Republic\n",
            "of\n",
            "India\n",
            "j\n",
            "20\n",
            "be\n",
            "a\n",
            "country\n",
            "in\n",
            "South\n",
            "Asia\n",
            "It\n",
            "be\n",
            "the\n",
            "seventh-largest\n",
            "country\n",
            "in\n",
            "the\n",
            "world\n",
            "by\n",
            "area\n",
            "and\n",
            "the\n",
            "most\n",
            "populous\n",
            "country\n",
            "Bounded\n",
            "by\n",
            "the\n",
            "Indian\n",
            "Ocean\n",
            "on\n",
            "the\n",
            "south\n",
            "the\n",
            "Arabian\n",
            "Sea\n",
            "on\n",
            "the\n",
            "southwest\n",
            "and\n",
            "the\n",
            "Bay\n",
            "of\n",
            "Bengal\n",
            "on\n",
            "the\n",
            "southeast\n",
            "it\n",
            "share\n",
            "land\n",
            "border\n",
            "with\n",
            "Pakistan\n",
            "to\n",
            "the\n",
            "west\n",
            "k\n",
            "China\n",
            "Nepal\n",
            "and\n",
            "Bhutan\n",
            "to\n",
            "the\n",
            "north\n",
            "and\n",
            "Bangladesh\n",
            "and\n",
            "Myanmar\n",
            "to\n",
            "the\n",
            "east\n",
            "In\n",
            "the\n",
            "Indian\n",
            "Ocean\n",
            "India\n",
            "be\n",
            "in\n",
            "the\n",
            "vicinity\n",
            "of\n",
            "Sri\n",
            "Lanka\n",
            "and\n",
            "the\n",
            "Maldives\n",
            "its\n",
            "Andaman\n",
            "and\n",
            "Nicobar\n",
            "Islands\n",
            "share\n",
            "a\n",
            "maritime\n",
            "border\n",
            "with\n",
            "Thailand\n",
            "Myanmar\n",
            "and\n",
            "Indonesia\n",
            "Modern\n",
            "humans\n",
            "arrive\n",
            "on\n",
            "the\n",
            "Indian\n",
            "subcontinent\n",
            "from\n",
            "Africa\n",
            "no\n",
            "later\n",
            "than\n",
            "55,000\n",
            "years\n",
            "ago\n",
            "22\n",
            "23\n",
            "24\n",
            "Their\n",
            "long\n",
            "occupation\n",
            "initially\n",
            "in\n",
            "vary\n",
            "form\n",
            "of\n",
            "isolation\n",
            "as\n",
            "hunter-gatherers\n",
            "have\n",
            "make\n",
            "the\n",
            "region\n",
            "highly\n",
            "diverse\n",
            "second\n",
            "only\n",
            "to\n",
            "Africa\n",
            "in\n",
            "human\n",
            "genetic\n",
            "diversity\n",
            "25\n",
            "Settled\n",
            "life\n",
            "emerge\n",
            "on\n",
            "the\n",
            "subcontinent\n",
            "in\n",
            "the\n",
            "western\n",
            "margins\n",
            "of\n",
            "the\n",
            "Indus\n",
            "river\n",
            "basin\n",
            "9,000\n",
            "years\n",
            "ago\n",
            "evolve\n",
            "gradually\n",
            "into\n",
            "the\n",
            "Indus\n",
            "Valley\n",
            "Civilisation\n",
            "of\n",
            "the\n",
            "third\n",
            "millennium\n",
            "BCE\n",
            "26\n",
            "By\n",
            "at\n",
            "least\n",
            "1200\n",
            "BCE\n",
            "an\n",
            "archaic\n",
            "form\n",
            "of\n",
            "Sanskrit\n",
            "an\n",
            "Indo-European\n",
            "language\n",
            "have\n",
            "diffuse\n",
            "into\n",
            "India\n",
            "from\n",
            "the\n",
            "northwest\n",
            "27\n",
            "28\n",
            "Its\n",
            "evidence\n",
            "today\n",
            "be\n",
            "find\n",
            "in\n",
            "the\n",
            "hymn\n",
            "of\n",
            "the\n",
            "Rigveda\n",
            "Preserved\n",
            "by\n",
            "an\n",
            "oral\n",
            "tradition\n",
            "that\n",
            "be\n",
            "resolutely\n",
            "vigilant\n",
            "the\n",
            "Rigveda\n",
            "record\n",
            "the\n",
            "dawn\n",
            "of\n",
            "Hinduism\n",
            "in\n",
            "India\n",
            "29\n",
            "The\n",
            "Dravidian\n",
            "languages\n",
            "of\n",
            "India\n",
            "be\n",
            "supplant\n",
            "in\n",
            "the\n",
            "northern\n",
            "and\n",
            "western\n",
            "regions\n",
            "30\n",
            "By\n",
            "400\n",
            "BCE\n",
            "stratification\n",
            "and\n",
            "exclusion\n",
            "by\n",
            "caste\n",
            "have\n",
            "emerge\n",
            "within\n",
            "Hinduism\n",
            "31\n",
            "and\n",
            "Buddhism\n",
            "and\n",
            "Jainism\n",
            "have\n",
            "arise\n",
            "proclaim\n",
            "social\n",
            "order\n",
            "unlinked\n",
            "to\n",
            "heredity\n",
            "32\n",
            "Early\n",
            "political\n",
            "consolidations\n",
            "give\n",
            "rise\n",
            "to\n",
            "the\n",
            "loose-knit\n",
            "Maurya\n",
            "and\n",
            "Gupta\n",
            "Empires\n",
            "base\n",
            "in\n",
            "the\n",
            "Ganges\n",
            "Basin\n",
            "33\n",
            "Their\n",
            "collective\n",
            "era\n",
            "be\n",
            "suffuse\n",
            "with\n",
            "wide-ranging\n",
            "creativity\n",
            "34\n",
            "but\n",
            "also\n",
            "mark\n",
            "by\n",
            "the\n",
            "decline\n",
            "status\n",
            "of\n",
            "women\n",
            "35\n",
            "and\n",
            "the\n",
            "incorporation\n",
            "of\n",
            "untouchability\n",
            "into\n",
            "an\n",
            "organise\n",
            "system\n",
            "of\n",
            "belief\n",
            "l\n",
            "36\n",
            "The\n",
            "Middle\n",
            "kingdoms\n",
            "export\n",
            "Sanskrit\n",
            "language\n",
            "south\n",
            "Indian\n",
            "script\n",
            "and\n",
            "religions\n",
            "of\n",
            "Hinduism\n",
            "and\n",
            "Buddhism\n",
            "to\n",
            "the\n",
            "Southeast\n",
            "Asia\n",
            "37\n"
          ]
        }
      ]
    },
    {
      "cell_type": "code",
      "source": [
        "# sir's code\n",
        "from nltk.tokenize import word_tokenize\n",
        "nltk.download('averaged_perceptron_tagger_eng')\n",
        "from nltk import pos_tag"
      ],
      "metadata": {
        "colab": {
          "base_uri": "https://localhost:8080/"
        },
        "id": "CH14zhhS6V8S",
        "outputId": "9005c796-50f4-4e9d-f866-4101f15d9fdc"
      },
      "execution_count": null,
      "outputs": [
        {
          "output_type": "stream",
          "name": "stderr",
          "text": [
            "[nltk_data] Downloading package averaged_perceptron_tagger_eng to\n",
            "[nltk_data]     /root/nltk_data...\n",
            "[nltk_data]   Unzipping taggers/averaged_perceptron_tagger_eng.zip.\n"
          ]
        }
      ]
    },
    {
      "cell_type": "code",
      "source": [
        "tags = pos_tag(word_tokenize(text))"
      ],
      "metadata": {
        "id": "qip7uyV56eX8"
      },
      "execution_count": null,
      "outputs": []
    },
    {
      "cell_type": "code",
      "source": [
        "verbs = set()\n",
        "for word, tag in tags:\n",
        "    if tag.startswith('V') and word.isalpha():\n",
        "        verbs.add(wnl.lemmatize(word.lower(), pos='v'))"
      ],
      "metadata": {
        "id": "prZCZosG6irG"
      },
      "execution_count": null,
      "outputs": []
    },
    {
      "cell_type": "code",
      "source": [
        "verbs"
      ],
      "metadata": {
        "colab": {
          "base_uri": "https://localhost:8080/"
        },
        "id": "-0x0D8Vf67Mk",
        "outputId": "b343cc3f-602b-4a73-a728-b023fae62c3d"
      },
      "execution_count": null,
      "outputs": [
        {
          "output_type": "execute_result",
          "data": {
            "text/plain": [
              "{'arise',\n",
              " 'arrive',\n",
              " 'base',\n",
              " 'be',\n",
              " 'bound',\n",
              " 'decline',\n",
              " 'diffuse',\n",
              " 'emerge',\n",
              " 'evolve',\n",
              " 'export',\n",
              " 'find',\n",
              " 'give',\n",
              " 'have',\n",
              " 'humans',\n",
              " 'k',\n",
              " 'land',\n",
              " 'make',\n",
              " 'mark',\n",
              " 'preserve',\n",
              " 'proclaim',\n",
              " 'settle',\n",
              " 'suffuse',\n",
              " 'supplant',\n",
              " 'unlinked',\n",
              " 'vary'}"
            ]
          },
          "metadata": {},
          "execution_count": 108
        }
      ]
    },
    {
      "cell_type": "code",
      "source": [],
      "metadata": {
        "id": "3DqS-onJ69_f"
      },
      "execution_count": null,
      "outputs": []
    }
  ]
}